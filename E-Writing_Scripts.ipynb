{
 "cells": [
  {
   "cell_type": "markdown",
   "metadata": {},
   "source": [
    "# Section E\n",
    "\n",
    "**Topics** - Python Editors, Writing and runnig scripts, argparse library\n",
    "\n",
    "## Python Editors (IDEs)\n",
    "A good editor has a few features that really help with writing code:\n",
    "* Syntax highlighting\n",
    "* Linting - A Linter is a tool that looks at your code for issues like missing variables, misspelled stuff, and any time you diverge from standards and conventions that the rest of the world thinks are a good idea. \n",
    "* You make like for your ide to be able to run your code from the editor and give you the output.  Or you may prefer to run it from a terminal window separately. \n",
    "* Debugging - If you run your code from the editor, you should be able to set breakpoints to pause your script and see what variables are set, etc. "
   ]
  },
  {
   "cell_type": "code",
   "execution_count": null,
   "metadata": {
    "vscode": {
     "languageId": "plaintext"
    }
   },
   "outputs": [],
   "source": []
  }
 ],
 "metadata": {
  "language_info": {
   "name": "python"
  }
 },
 "nbformat": 4,
 "nbformat_minor": 2
}

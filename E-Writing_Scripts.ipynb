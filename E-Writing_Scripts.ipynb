{
 "cells": [
  {
   "cell_type": "markdown",
   "metadata": {},
   "source": [
    "# Section E - Writing Scripts / Programs\n",
    "\n",
    "**Topics** - Python Editors, Writing and runnig scripts, argparse library\n",
    "\n",
    "## What is a script?\n",
    "It's a text file with code that is executed by an interpreter.  Your script might be a program...  Calling something a program might imply that it's compiled or that it's more complicated than a script.  Python is great for short utility scripts just as well as gigantic compilcated programs.  In computationaly intensive programs, you might write moudles in C or or another compiled language, and call those parts from python, keeping all of the complex logic in python so that it's more human friendly to work on. \n",
    "\n",
    "## Python Editors (IDEs)\n",
    "It's important to use a good editor for writing scripts.  Some features of a good editor include:\n",
    "* Syntax highlighting\n",
    "* Linting - A Linter is a tool that looks at your code for issues like missing variables, misspelled stuff, and any time you diverge from standards and conventions that the rest of the world thinks are a good idea. \n",
    "* You make like for your ide to be able to run your code from the editor and give you the output.  Or you may prefer to run it from a terminal window separately. \n",
    "* Debugging - If you run your code from the editor, you should be able to set breakpoints to pause your script and see what variables are set, etc. \n",
    "\n",
    "A few good ones are:\n",
    "* VS Code\n",
    "* PyCharm\n",
    "* Atom\n",
    "* ...\n",
    "* VIM or Emacs ()"
   ]
  },
  {
   "cell_type": "markdown",
   "metadata": {},
   "source": [
    "## Template for a script\n",
    "\n",
    "**The #! shebang line**\n",
    "\n",
    "Shebang is short for hash bang.  This line says which interpreter to use to run the script. A couple of common entries are:\n",
    "* In linux for python3:\n",
    "  * #!/usr/bin/env python3\n",
    "* In windows, this would be common:\n",
    "  * #! python3\n",
    "\n",
    "In both cases the system PATH variable will be checked to find the given interpreter. \n",
    "\n",
    "**module description**\n",
    "\n",
    "You can add a short documentation abou the purpose of the script/module below the shebang line. \n",
    "\n",
    "**import statements**\n",
    "\n",
    "They go at the top.\n",
    "\n",
    "**global variables**\n",
    "\n",
    "Things like paths to tools that are called by the script, directories.  Global variables should be in ALL_CAPS with underscores between the words if they are multi-word.  It's common to have a VERBOSE or DEBUG boolean global that's referenced elsewhere do decide whether or not to print debug messages for troubleshooting issues. \n",
    "\n",
    "**function definitions**\n",
    "\n",
    "This is the main body of the script.  It's not uncommon to have a \"main\" function that is the first thing called when the script starts.  You don't have to define any functions if you don't want to. \n",
    "\n",
    "**the if __name__ ... condition**\n",
    "\n",
    "This is something that is important if your script might be used as a module that could be imported by another script or module in order to access your scripts functions and global variables.  If your script is imported, then it's __name__ will not be \"__main__\", but if it is called as a script, it's name will be \"__main__\", so the code below here gets executed. \n",
    "\n",
    "You can also skip this section and just start writing code that will run.  "
   ]
  },
  {
   "cell_type": "code",
   "execution_count": null,
   "metadata": {},
   "outputs": [],
   "source": [
    "#!/usr/bin/env python\n",
    "'''Short note about the script/module'''\n",
    "\n",
    "import stuff\n",
    "\n",
    "GLOBAL_VAR = 'foo'\n",
    "\n",
    "def funcDefinition(some, args):\n",
    "    '''foo'''\n",
    "    return 'bar'\n",
    "\n",
    "def main(some, args):\n",
    "    print('Hello, world!')\n",
    "\n",
    "if __name__ == '__main__':\n",
    "    main()"
   ]
  },
  {
   "cell_type": "markdown",
   "metadata": {},
   "source": [
    "## Helpful Libraries for Scripts\n",
    "\n",
    "### sys\n",
    "The sys module provides access to some variables and functions that interact with the Python interpreter.\n",
    "* sys.argv - A list of command-line arguments passed to the script. sys.argv[0] is the script name, and if len(sys.argv) > 1, then it was passed some arguments when it was run. \n",
    "* sys.exit() - Exits the program with an optional exit code.  Exit code zero says that everything worked as expected, and non-zero (positive) says there was an error.  You might return different numbers for different errors so if another tool calls your script, it can do something different depending on the exit codes. \n",
    "* sys.path - A list of strings that specifies the search path for modules. This is initialized from the PYTHONPATH environment variable or from the PATH environment variable. \n",
    "* sys.stdin, sys.stdout, sys.stderr - File objects corresponding to the interpreter’s standard input, output, and error streams.\n",
    "* sys.version - A string containing the Python version number.\n",
    "\n",
    "### os\n",
    "The os module provides a way of interacting with the operating system. It allows you to perform actions like reading or writing to the file system, managing directories, and interacting with environment variables.\n",
    "\n",
    "* os.getenv() - Retrieves the value of an environment variable.\n",
    "* os.environ - A dictionary representing the environment variables.\n",
    "* os.chdir() - Changes the current working directory.\n",
    "* os.getcwd() - Returns the current working directory.\n",
    "* os.listdir() - Lists the contents of a directory.\n",
    "* os.mkdir() and os.makedirs() - Create directories.\n",
    "* os.remove() and os.rmdir() - Remove files and directories.\n",
    "* os.path - A submodule for working with file and directory paths, providing functions like:\n",
    "  * os.path.join()\n",
    "  * os.path.exists()\n",
    "  * os.path.isfile()\n",
    "  * os.path.isdir().\n",
    "\n",
    "These modules are essential for performing system-level tasks and interacting with the environment in which your Python code is running."
   ]
  },
  {
   "cell_type": "markdown",
   "metadata": {},
   "source": [
    "## Script Arguments and sys.argv"
   ]
  },
  {
   "cell_type": "markdown",
   "metadata": {},
   "source": [
    "## Argparse\n"
   ]
  },
  {
   "cell_type": "markdown",
   "metadata": {},
   "source": [
    "## Logging"
   ]
  }
 ],
 "metadata": {
  "language_info": {
   "name": "python"
  }
 },
 "nbformat": 4,
 "nbformat_minor": 2
}

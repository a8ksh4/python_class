{
 "cells": [
  {
   "cell_type": "markdown",
   "metadata": {},
   "source": [
    "# D2 - Advanced Pandas\n",
    "\n",
    "**Topics**: loc and iloc, groupby, stack, unstack, pivot, ...\n",
    "\n",
    "## Wide Format vs Long Format\n",
    "\n",
    "## stack, unstack, and pivot\n",
    "\n",
    "## where\n",
    "\n",
    "## interpolation\n",
    "\n",
    "## groupby\n",
    "\n"
   ]
  },
  {
   "cell_type": "code",
   "execution_count": null,
   "metadata": {},
   "outputs": [],
   "source": []
  }
 ],
 "metadata": {
  "language_info": {
   "name": "python"
  }
 },
 "nbformat": 4,
 "nbformat_minor": 2
}

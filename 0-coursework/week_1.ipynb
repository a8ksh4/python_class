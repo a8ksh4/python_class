{
 "cells": [
  {
   "cell_type": "markdown",
   "metadata": {},
   "source": [
    "# Start here!\n",
    "\n",
    "The first program most folks make is a hello world.  Type the following in the code cell below and press shift + enter to run it!  \n",
    "  \n",
    "`print('Hello World!')`"
   ]
  },
  {
   "cell_type": "code",
   "execution_count": null,
   "metadata": {},
   "outputs": [],
   "source": []
  },
  {
   "cell_type": "markdown",
   "metadata": {},
   "source": [
    "## About Python\n",
    "\n",
    "\n"
   ]
  },
  {
   "cell_type": "markdown",
   "metadata": {},
   "source": [
    "## Syntax"
   ]
  },
  {
   "cell_type": "markdown",
   "metadata": {},
   "source": [
    "### Syntax Errors\n",
    "Recent versions of python 3 are pretty good at giving you error messages that help!  \n",
    "  \n",
    "Run the following cells, check the error messages, and fix the code to resolve the errors!\n",
    "* Look at what line the error message refers to\n",
    "* Think about the error\n",
    "* Think about the code and compare whatever you do to fix it to error message."
   ]
  },
  {
   "cell_type": "code",
   "execution_count": null,
   "metadata": {},
   "outputs": [],
   "source": [
    "a = \"The quick brown fox jumps over the lazy dog'\n",
    "# Hint, something should be the same at the start and end of the string\n",
    "# a is a variable that holds a string!  A string is a data type!\n",
    "print(a)"
   ]
  },
  {
   "cell_type": "code",
   "execution_count": null,
   "metadata": {},
   "outputs": [],
   "source": [
    "b == 5\n",
    "print('b is:', b)\n",
    "# hint, an = does an assigmnint, and an == does a comparison"
   ]
  },
  {
   "cell_type": "code",
   "execution_count": null,
   "metadata": {},
   "outputs": [],
   "source": [
    "if b == 5\n",
    "    print('b is five')\n",
    "else:\n",
    "    print('b is not five')"
   ]
  },
  {
   "cell_type": "code",
   "execution_count": null,
   "metadata": {},
   "outputs": [],
   "source": [
    "x = 2\n",
    "if x = 1:\n",
    "    print(\"x is 1\")\n",
    "else:\n",
    "    print(f'x is not 1, it is {x}')\n",
    "# Hint, a single equals sign is used to assign a value to a variable and the following\n",
    "# are used to compare values: ==, !=, >, <, >=, <="
   ]
  },
  {
   "cell_type": "markdown",
   "metadata": {},
   "source": [
    "## Data Types"
   ]
  },
  {
   "cell_type": "markdown",
   "metadata": {},
   "source": [
    "### Strings"
   ]
  },
  {
   "cell_type": "markdown",
   "metadata": {},
   "source": []
  }
 ],
 "metadata": {
  "kernelspec": {
   "display_name": "venv",
   "language": "python",
   "name": "python3"
  },
  "language_info": {
   "codemirror_mode": {
    "name": "ipython",
    "version": 3
   },
   "file_extension": ".py",
   "mimetype": "text/x-python",
   "name": "python",
   "nbconvert_exporter": "python",
   "pygments_lexer": "ipython3",
   "version": "3.12.3"
  }
 },
 "nbformat": 4,
 "nbformat_minor": 2
}

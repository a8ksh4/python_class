{
 "cells": [
  {
   "cell_type": "markdown",
   "metadata": {},
   "source": [
    "# Week 1 - Start here!\n",
    "\n",
    "The first program most folks make is a hello world.  Type the following in the code cell below and press shift + enter to run it!  \n",
    "  \n",
    "`print('Hello World!')`"
   ]
  },
  {
   "cell_type": "code",
   "execution_count": null,
   "metadata": {},
   "outputs": [],
   "source": []
  },
  {
   "cell_type": "markdown",
   "metadata": {},
   "source": [
    "## About Python\n",
    "Python is an interpreted language - you don'v have to compile your code before running it.  It's disigned to be readable and maintainable, and to do a lot of tasks efficiently.   It's one of the most popular languages for good reason.\n",
    "\n",
    "It may not run as fast as a compiled language like c, c++, fortran, but it has a lot of libraries that are written in c and make specific tasks very fast.  We'll work with pandas later in this class.  Pandas is build around numpy, a very performant library for manipulating lots of numbers. \n",
    "\n",
    "Run \"import this\", without the quotes, in the next cell!"
   ]
  },
  {
   "cell_type": "code",
   "execution_count": null,
   "metadata": {},
   "outputs": [],
   "source": []
  },
  {
   "cell_type": "markdown",
   "metadata": {},
   "source": [
    "### What can we do with Python?\n",
    "* Machine learning - Look into \"SciPy\" and many other libraries that make ML simple-ish to use.\n",
    "* Analytics and data processing - find trends, do analysis, make graphs!\n",
    "* Automate the boring stuff - office tasks like mail merges, filling out document templates over and over, processing spreadsheet and data\n",
    "* Web scraping - Look into BeautifulSoup or many other libraries\n",
    "* Embeded systems and Robotics - look at micropython and circuitpython, which run on many small microconrtollers\n",
    "* Games - Look into PyGame, Pygame Zero, Turtle, or even Godot engine, which uses a python-like language and can build very advanced games. \n",
    "* Systems automation - read config files, run commands on computers, collect data, do stuff.  \n",
    "* And more!\n",
    "\n",
    "### Libraries\n",
    "You'll learn pretty quickly that learing python is as much about understanding how the language works and getting familiar with libraries to do the things you want to do. "
   ]
  },
  {
   "cell_type": "markdown",
   "metadata": {},
   "source": [
    "## Syntax"
   ]
  },
  {
   "cell_type": "markdown",
   "metadata": {},
   "source": [
    "### Syntax Errors\n",
    "Recent versions of python 3 are pretty good at giving you error messages that help!  \n",
    "  \n",
    "Run the following cells, check the error messages, and fix the code to resolve the errors!\n",
    "* Look at what line the error message refers to\n",
    "* Think about the error\n",
    "* Think about the code and compare whatever you do to fix it to error message."
   ]
  },
  {
   "cell_type": "code",
   "execution_count": null,
   "metadata": {},
   "outputs": [],
   "source": [
    "a = \"The quick brown fox jumps over the lazy dog'\n",
    "# Hint, something should be the same at the start and end of the string\n",
    "# a is a variable that holds a string!  A string is a data type!\n",
    "print(a)"
   ]
  },
  {
   "cell_type": "code",
   "execution_count": null,
   "metadata": {},
   "outputs": [],
   "source": [
    "b == 5\n",
    "print('b is:', b)\n",
    "# hint, an = does an assigmnint, and an == does a comparison"
   ]
  },
  {
   "cell_type": "code",
   "execution_count": null,
   "metadata": {},
   "outputs": [],
   "source": [
    "if b == 5\n",
    "    print('b is five')\n",
    "else:\n",
    "    print('b is not five')"
   ]
  },
  {
   "cell_type": "code",
   "execution_count": null,
   "metadata": {},
   "outputs": [],
   "source": [
    "if b % 2:  # a less succinct way to write this is 'if b % 2 == 1'\n",
    "    print('b is odd')\n",
    "  else:\n",
    "    print('b is even')\n",
    "# hint, if and else need the same level of indentation"
   ]
  },
  {
   "cell_type": "code",
   "execution_count": null,
   "metadata": {},
   "outputs": [],
   "source": [
    "x = 2\n",
    "if x = 1:\n",
    "    print(\"x is 1\")\n",
    "else:\n",
    "    print(f'x is not 1, it is {x}')\n",
    "# Hint, a single equals sign is used to assign a value to a variable and the following\n",
    "# are used to compare values: ==, !=, >, <, >=, <="
   ]
  },
  {
   "cell_type": "markdown",
   "metadata": {},
   "source": [
    "## Data Types"
   ]
  },
  {
   "cell_type": "markdown",
   "metadata": {},
   "source": [
    "### Strings"
   ]
  },
  {
   "cell_type": "markdown",
   "metadata": {},
   "source": []
  },
  {
   "cell_type": "code",
   "execution_count": 21,
   "metadata": {},
   "outputs": [],
   "source": [
    "from turtle import *\n",
    "home()\n",
    "pos()\n",
    "clearscreen()\n",
    "for steps in range(100):\n",
    "    for c in ('blue', 'red', 'green'):\n",
    "        color(c)\n",
    "        forward(steps)\n",
    "        right(30)"
   ]
  },
  {
   "cell_type": "code",
   "execution_count": null,
   "metadata": {},
   "outputs": [],
   "source": []
  }
 ],
 "metadata": {
  "kernelspec": {
   "display_name": "venv",
   "language": "python",
   "name": "python3"
  },
  "language_info": {
   "codemirror_mode": {
    "name": "ipython",
    "version": 3
   },
   "file_extension": ".py",
   "mimetype": "text/x-python",
   "name": "python",
   "nbconvert_exporter": "python",
   "pygments_lexer": "ipython3",
   "version": "3.12.3"
  }
 },
 "nbformat": 4,
 "nbformat_minor": 2
}

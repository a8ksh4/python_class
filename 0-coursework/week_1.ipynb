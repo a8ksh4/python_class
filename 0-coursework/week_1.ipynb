{
 "cells": [
  {
   "cell_type": "markdown",
   "metadata": {},
   "source": [
    "# Week 1 - Start here!\n",
    "\n",
    "The first program most folks make in any language is a hello world.  Type the following in the code cell below and press shift + enter to run it!\n",
    "  \n",
    "`print('Hello World!')`"
   ]
  },
  {
   "cell_type": "code",
   "execution_count": null,
   "metadata": {},
   "outputs": [],
   "source": []
  },
  {
   "cell_type": "markdown",
   "metadata": {},
   "source": [
    "## About Python\n",
    "Python is an interpreted language - you don'v have to compile your code before running it.  It's disigned to be readable and maintainable, and to do a lot of tasks efficiently.   It's one of the most popular languages for good reason.\n",
    "\n",
    "It may not run as fast as a compiled language like c, c++, fortran, but it has a lot of libraries that are written in c and make specific tasks very fast.  We'll work with pandas later in this class.  Pandas is build around numpy, a very performant library for manipulating lots of numbers. \n",
    "\n",
    "### What can we do with Python?\n",
    "* Machine learning - Look into \"SciPy\" and many other libraries that make ML simple-ish to use.\n",
    "* Analytics and data processing - find trends, do analysis, make graphs!\n",
    "* Automate the boring stuff - office tasks like mail merges, filling out document templates over and over, processing spreadsheet and data\n",
    "* Web scraping - Look into BeautifulSoup or many other libraries\n",
    "* Embeded systems and Robotics - look at micropython and circuitpython, which run on many small microconrtollers\n",
    "* Games - Look into PyGame, Pygame Zero, Turtle, or even Godot engine, which uses a python-like language and can build very advanced games. \n",
    "* Systems automation - read config files, run commands on computers, collect data, do stuff.  \n",
    "* And more!\n",
    "\n",
    "\n",
    "#### *Exercise*:\n",
    "Run \"import this\", without the quotes, in the next cell!"
   ]
  },
  {
   "cell_type": "code",
   "execution_count": null,
   "metadata": {},
   "outputs": [],
   "source": []
  },
  {
   "cell_type": "markdown",
   "metadata": {},
   "source": [
    "### Libraries\n",
    "You'll learn pretty quickly that learing python is as much about understanding how the language works as getting familiar with libraries to do the things you want to do. A few examples:\n",
    "* import math\n",
    "  * it has functions for rounding, trig, and a lot more\n",
    "* from datetime import datetime\n",
    "  * datetime has tools for manipulating datetime objects!  This is one that's weirdly complex in practice.\n",
    "* import pandas as pd\n",
    "  * Using a short name is a common convention for some library.  pandas is pd, numpy is np, ...\n",
    "  * Pandas is a bit like excel, except you do it all with commands in a reproducible way, rather than one off editing a file manually in excel.\n",
    "* import json\n",
    "  * you'll use json a lot for web queries with the \"requests\" libray, for rest api stuff, and config files \n",
    "... "
   ]
  },
  {
   "cell_type": "markdown",
   "metadata": {},
   "source": [
    "## Syntax\n",
    "Reference this page: https://en.wikipedia.org/wiki/Python_syntax_and_semantics\n",
    "\n",
    "### Keywords\n",
    "Some words cannot be used as variables because they have special meaning in the python language:  \n",
    "\n",
    "*and as assert async await break case class continue def del elif else except False finally for from global if import in is lambda match None nonlocal not or pass raise return True try while with yield _.*\n",
    "\n",
    "### Indentation\n",
    "Python uses indentation to group code inside of functions, classes, and control blocks. Other languages often use { } for the same purpose. \n",
    "\n",
    "For example, this function called foo has an if else block inside of it, with indentation showing what code belongs to the function:\n",
    "\n",
    "    def foo(x):\n",
    "        if x == 0:\n",
    "            bar()\n",
    "        else:\n",
    "            baz(x)\n",
    "            foo(x - 1)\n",
    "\n",
    "**What would happen if the last line, 'foo(x-1)' were un-indented to the same level as the if and else lines?**\n",
    "\n",
    "**What would happen if there were tab characters mixed with the spaces in the indention in the above foo function?**\n",
    "\n",
    "An equivelant function in c could be written like this:\n",
    "\n",
    "    void foo(int x)\n",
    "    {\n",
    "        if (x == 0) {\n",
    "            bar();\n",
    "        } else {\n",
    "            baz(x);\n",
    "            foo(x - 1);\n",
    "        }\n",
    "    }\n",
    "\n",
    "The indentation in c code is functionally unnecessary, but makes it readable.\n",
    "\n",
    "### Quoting\n",
    "Strings, non-numeric values, are quoted with ', \", ''', \"\"\".  We'll look at this more in the strings section below.  Just note this.  Variable names are not quoted, but values when assigned or passed as arguments to a function are if they are to be treated as strings.  \n",
    "\n",
    "Examples:\n",
    "* x = \"Hasn't seen it\"\n",
    "* y = '''He said, \"it isn't there.\"'''\n",
    "* ...\n",
    "\n",
    "#### *Exercise*:\n",
    "Fill out the print statements in the following code cell so that when the print statement runs, it prints exactly the text on each comment line, including quotes and back-slashes '\\'.  "
   ]
  },
  {
   "cell_type": "code",
   "execution_count": null,
   "metadata": {},
   "outputs": [],
   "source": [
    "# It's Alright\n",
    "print()\n",
    "# He is called 'Johnny'.\n",
    "print()\n",
    "# Johnny said, \"That's some crazy quoting!\"\n",
    "print()\n",
    "# We can escape quotes with a backslash: \\\"\n",
    "print()\n",
    "# But how do we print the \\?  Escape it with another \\!\n",
    "print()"
   ]
  },
  {
   "cell_type": "markdown",
   "metadata": {},
   "source": [
    "### Describing data types\n",
    "We use symbols like [], (), {} to say what type of data things are:\n",
    "\n",
    "* To define a list:\n",
    "  * x = [1, 2, 3, '1', '2', 'c']\n",
    "* To define a tuple:\n",
    "  * y = (4, 5, 6, 'a', 'b')\n",
    "* To define a dictionary:\n",
    "  * z = {1: 'a', 2: 'b', 'c': 'foo'}\n",
    "\n",
    "### Variables and Functions\n",
    "We'll look deeper at each of these later, but just note how we write them for now.  We'll get into the intricacies of how they work later. \n",
    "\n",
    "**Variables** are created by assigning a value to a name with an = symbol. For examble:\n",
    "* valid_dogs = ['terrier', 'minpin', 'labrador']\n",
    "* pets_age = 15\n",
    "\n",
    "\"valid_dogs\" and \"pets_age\" are the variables that refer to a list of strings and an integer, respectively.  \n",
    "\n",
    "    >>> pets_age = 15\n",
    "    >>> print(\"My dogs age is:\", pets_age)\n",
    "    My dogs age is: 15\n",
    "    >>> \n",
    "\n",
    "**Functions** are are created with the keyword \"def\", short for \"define\":\n",
    "\n",
    "    def prompt_user_for_age(user_name):\n",
    "        prompt_message = f'{user_name}, enter your age: '\n",
    "        user_age = input(prompt_message)\n",
    "        return user_age\n",
    "\n",
    "This defines a function called \"prompt_user_for_age\" that takes an argument, \"user_name\", and it returns the response from the user, \"user_age\".\n",
    "\n"
   ]
  },
  {
   "cell_type": "markdown",
   "metadata": {},
   "source": [
    "### Syntax Errors\n",
    "Recent versions of python 3 are pretty good at giving you error messages that help!  \n",
    "  \n",
    "#### *Exercise*:\n",
    "Run the following code cells, check the error messages, and fix the code to resolve the errors!\n",
    "* Look at what line the error message refers to\n",
    "* Think about the error\n",
    "* Think about the code and compare whatever you do to fix it to error message."
   ]
  },
  {
   "cell_type": "code",
   "execution_count": null,
   "metadata": {},
   "outputs": [],
   "source": [
    "a = \"The quick brown fox jumps over the lazy dog'\n",
    "# Hint, something should be the same at the start and end of the string\n",
    "# a is a variable that holds a string!  A string is a data type!\n",
    "print(a)"
   ]
  },
  {
   "cell_type": "code",
   "execution_count": null,
   "metadata": {},
   "outputs": [],
   "source": [
    "b == 5\n",
    "print('b is:', b)\n",
    "# hint, an = does an assigmnint, and an == does a comparison"
   ]
  },
  {
   "cell_type": "code",
   "execution_count": null,
   "metadata": {},
   "outputs": [],
   "source": [
    "if b == 5\n",
    "    print('b is five')\n",
    "else:\n",
    "    print('b is not five')"
   ]
  },
  {
   "cell_type": "code",
   "execution_count": null,
   "metadata": {},
   "outputs": [],
   "source": [
    "if b % 2:  # a less succinct way to write this is 'if b % 2 == 1'\n",
    "    print('b is odd')\n",
    "  else:\n",
    "    print('b is even')\n",
    "# hint, if and else need the same level of indentation"
   ]
  },
  {
   "cell_type": "code",
   "execution_count": null,
   "metadata": {},
   "outputs": [],
   "source": [
    "x = 2\n",
    "if x = 1:\n",
    "    print(\"x is 1\")\n",
    "else:\n",
    "    print(f'x is not 1, it is {x}')\n",
    "# Hint, a single equals sign is used to assign a value to a variable and the following\n",
    "# are used to compare values: ==, !=, >, <, >=, <="
   ]
  },
  {
   "cell_type": "markdown",
   "metadata": {},
   "source": [
    "## Data Types\n",
    "You may have heard the saying that everything in Python is an object.  This means that every *thing* in python has properties and built in methods/functions for interacting with it.  \n",
    "\n",
    "Following are the built in data types we need to know how to work with.  But also keep in mind that we can define a *class* to make any type of object suited to our specific need. \n",
    "\n",
    "You can check the type of an object with the **type** function:\n",
    "\n",
    "    >>> type('a')\n",
    "    <class 'str'>\n",
    "\n",
    "#### *Exercise*:\n",
    "Check the type of each of these things using the **type** function:\n",
    "* -10\n",
    "* 0\n",
    "* 50.1\n",
    "* '123'\n",
    "* '10.2'\n",
    "* 'a'\n",
    "* True\n",
    "* None\n",
    "* 3+2j\n",
    "* (1, 2, 3)\n",
    "* ('a', 'b', 3)\n",
    "* [4, 5, 'e']\n",
    "* {'a': 2, 'b': 6}\n",
    "* set((1, 1, 2, 3, 4))"
   ]
  },
  {
   "cell_type": "code",
   "execution_count": null,
   "metadata": {},
   "outputs": [],
   "source": []
  },
  {
   "cell_type": "markdown",
   "metadata": {},
   "source": [
    "You can check the built in methods of any type of object using the **dir** function:  \n",
    "\n",
    "    >>> dir([1, 2, 3])\n",
    "    ['__add__', '__class__', '__class_getitem__', '__contains__', '__delattr__', '__delitem__', '__dir__', '__doc__', '__eq__', '__format__', '__ge__', '__getattribute__', '__getitem__', '__getstate__', '__gt__', '__hash__', '__iadd__', '__imul__', '__init__', '__init_subclass__', '__iter__', '__le__', '__len__', '__lt__', '__mul__', '__ne__', '__new__', '__reduce__', '__reduce_ex__', '__repr__', '__reversed__', '__rmul__', '__setattr__', '__setitem__', '__sizeof__', '__str__', '__subclasshook__', 'append', 'clear', 'copy', 'count', 'extend', 'index', 'insert', 'pop', 'remove', 'reverse', 'sort']\n",
    "    >>> \n",
    "\n",
    "Anything listed without an __ is intended to be called directly to interact with the object.  For example:\n",
    "\n",
    "    >>> x = [1, 2, 3]\n",
    "    >>> x.append(4)\n",
    "    >>> x\n",
    "    [1, 2, 3, 4]\n",
    "\n",
    "Anything listed with __ at the start and end is a special method that you don't directly access, but works with the Python language naturally, making code more readable.  For example, if I want to know if the number 2 is in the list [1, 2, 3], I can use:\n",
    "\n",
    "    >>> 2 in [1, 2, 3]\n",
    "    True\n",
    "\n",
    "And in the background, python is running this:\n",
    "\n",
    "    >>> [1, 2, 3].__contains__(2)\n",
    "    True\n",
    "\n",
    "#### *Exercise*\n",
    "Use **dir** to check the built in methods for each ot the thinkgs from the above **type** exercise:"
   ]
  },
  {
   "cell_type": "code",
   "execution_count": null,
   "metadata": {},
   "outputs": [],
   "source": []
  },
  {
   "cell_type": "markdown",
   "metadata": {},
   "source": [
    "### Integers and Floats\n",
    "Python has different data types for integers, whole numbers, and floating point values, but will automaticaly convert to using floats when doing division unless you tell it not to. \n",
    "\n",
    "#### Arithmatic Operations\n",
    "Most of these should look familiar.  We start by assigning values to a and b, and them do some math with them.  A few things to note:\n",
    "* '/' is for division and will give a floating point value\n",
    "* '//' is for division but will drop the remainder and give an integer result\n",
    "* '%' is called a modulus and gives the remainder of the division.\n",
    "* '^' is a little unusual, doing a *not* operation on the binary form of both numbers.\n",
    "* '**' does an exponent, a to the power of b in this example.\n",
    "\n",
    "    >>> a = 2\n",
    "    >>> b = 3\n",
    "    >>> a + b\n",
    "    5\n",
    "    >>> a - b\n",
    "    -1\n",
    "    >>> a * b\n",
    "    6\n",
    "    >>> a / b\n",
    "    0.6666666666666666\n",
    "    >>> a ^ b\n",
    "    1\n",
    "    >>> a ** b\n",
    "    8\n",
    "    >>> a // b\n",
    "    0\n",
    "    >>> a % b\n",
    "    2\n",
    "\n",
    "#### Typecasting Ints and Floats\n"
   ]
  },
  {
   "cell_type": "markdown",
   "metadata": {},
   "source": [
    "### Strings"
   ]
  },
  {
   "cell_type": "markdown",
   "metadata": {},
   "source": [
    "### Lists"
   ]
  },
  {
   "cell_type": "markdown",
   "metadata": {},
   "source": [
    "### Tuples"
   ]
  },
  {
   "cell_type": "markdown",
   "metadata": {},
   "source": [
    "### Sets"
   ]
  },
  {
   "cell_type": "markdown",
   "metadata": {},
   "source": [
    "### Dictionaries"
   ]
  },
  {
   "cell_type": "markdown",
   "metadata": {},
   "source": [
    "### Typecasting"
   ]
  },
  {
   "cell_type": "markdown",
   "metadata": {},
   "source": [
    "# Week 1 Turtle Challenge!\n",
    "Turtle is a simple python graphics library.  You tell the turtle which directon to walk, how far to walk, and what color to draw, and the turtle draws lines for you!\n",
    "\n",
    "This week, we'll get turtle working, and make some simple patterns.  \n",
    "\n",
    "If you're working in google colab, you can use the following code to start using turtle:"
   ]
  },
  {
   "cell_type": "code",
   "execution_count": null,
   "metadata": {},
   "outputs": [],
   "source": [
    "!pip3 install ColabTurtle\n",
    "from ColabTurtle.Turtle import *\n",
    "initializeTurtle()\n",
    "home()\n",
    "pos()\n",
    "clearscreen()\n",
    "color('red')\n",
    "forward(200)\n",
    "right(90)\n",
    "color('blue')\n",
    "forward(30)"
   ]
  },
  {
   "cell_type": "markdown",
   "metadata": {},
   "source": [
    "And if you're working in notebook locally installed on your laptop, you can use the following code:"
   ]
  },
  {
   "cell_type": "code",
   "execution_count": 4,
   "metadata": {},
   "outputs": [],
   "source": [
    "from turtle import *\n",
    "home()\n",
    "pos()\n",
    "clearscreen()\n",
    "color('red')\n",
    "forward(200)\n",
    "right(90)\n",
    "color('blue')\n",
    "forward(30)"
   ]
  },
  {
   "cell_type": "markdown",
   "metadata": {},
   "source": [
    "#### *Exercise*:\n",
    "Copy the turtle code from above to new cells below and make changes to accomplish as many of the following things as you can:\n",
    "* Draw a square with each side a different color\n",
    "* Draw an octogon with alternating colors on each side\n",
    "* Rework your code from the above two challenges to use a variable for the side length, so you only have to change one number in the cell to make all of the sides longer or shorter. \n",
    "* Use a variable to count the number of sides drawn.  Each time you draw a side, add one to the counter.  If the counter is odd, make the next side green.  If the counter is even, make the next side blue.  You can use an if statement to do this. And you can test to see if the counter is odd with simply \"counter % 2 > 0\".  This uses the modulus operator to say, if the remainder after dividing counter by 2 is greater than zeri.  If it is, then it evaluates True.  If it is, it evaluates False. \n"
   ]
  },
  {
   "cell_type": "code",
   "execution_count": null,
   "metadata": {},
   "outputs": [],
   "source": []
  }
 ],
 "metadata": {
  "kernelspec": {
   "display_name": "venv",
   "language": "python",
   "name": "python3"
  },
  "language_info": {
   "codemirror_mode": {
    "name": "ipython",
    "version": 3
   },
   "file_extension": ".py",
   "mimetype": "text/x-python",
   "name": "python",
   "nbconvert_exporter": "python",
   "pygments_lexer": "ipython3",
   "version": "3.12.3"
  }
 },
 "nbformat": 4,
 "nbformat_minor": 2
}

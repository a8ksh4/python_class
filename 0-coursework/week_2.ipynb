{
 "cells": [
  {
   "cell_type": "markdown",
   "metadata": {},
   "source": [
    "# Week 2"
   ]
  },
  {
   "cell_type": "markdown",
   "metadata": {},
   "source": [
    "**Topics**: Dictionaries, list comprehensions, and advanced control flow (loops: for and while).\n",
    "\n",
    "We're looking at more basic python functionality this week, and will import other libraries and work with functions next week.\n",
    "\n",
    "# Dictionaries\n",
    "Dictionaries are for key: value collections.  \n",
    "\n",
    "This could be useful for many reasons!\n",
    "\n",
    "**Mapping human readable values to hex codes**\n",
    "In this example, we pre-define a bunch of colors and hex values they represent.\n",
    "\n",
    "    colors = {\n",
    "        \"white\": \"#FFFFFF\",\n",
    "        \"black\": \"#000000\",\n",
    "        \"red\": \"#FF0000\",\n",
    "        \"green\": \"#008000\",\n",
    "        \"blue\": \"#0000FF\",\n",
    "        \"yellow\": \"#FFFF00\",\n",
    "        \"cyan\": \"#00FFFF\",\n",
    "        \"magenta\": \"#FF00FF\"\n",
    "    }\n",
    "\n",
    "**Grouping files for processing by analysis type**\n",
    "In this value, we get a list of files from the current working directory and sort them into lists per analyte name:\n",
    "\n",
    "all_files = {'chloraphyl': [], 'nitrogen': [], 'salinity': []}\n",
    "for file_name in os.listdir():\n",
    "    if 'chloraphyl' in file_name:\n",
    "        all_files['chloraphyl'].append(file_name)\n",
    "    elif 'nitrogen' in file_name:\n",
    "        all_files['nitrogen'].append(file_name)\n",
    "    elif 'ph' in file_name:\n",
    "        all_files['salinity'].append(file_name)\n",
    "    else:\n",
    "        print('Warning, unknown file:', file_name)\n",
    "\n",
    "## \n",
    "    \n",
    "    "
   ]
  },
  {
   "cell_type": "code",
   "execution_count": null,
   "metadata": {},
   "outputs": [],
   "source": []
  },
  {
   "cell_type": "markdown",
   "metadata": {},
   "source": [
    "# List Comprehensions\n",
    "You can get by without these, but the're a nice tool for doing simple operations to lists of things.\n",
    "\n",
    "## Without a list comprehension:\n",
    "There's more than one way to do this, but this is sort of a general example of what a list compreheon does. \n",
    "\n",
    "    people = ['jaon', 'maude', 'henrietta']\n",
    "    tmp_list = []\n",
    "    for name in people:\n",
    "        tmp_list.append(name.capitalize())\n",
    "    people = tmp_list\n",
    "    print(people)\n",
    "    ['Jaon', 'Maude', 'Henrietta']\n",
    "\n",
    "## Basic Structure\n",
    "The basic structure of a list comprehension looks like this:\n",
    "\n",
    "[expression for item in iterable]\n",
    "\n",
    "* expression: This is the value that will be included in the new list.  It uses the item to do something.\n",
    "* item: This is a variable that takes the value of each element in the iterable.\n",
    "* iterable: This is any Python object capable of returning its members one at a time, such as a list, range, string, etc.\n",
    "\n",
    "Example:\n",
    "\n",
    "    >>> people = ['jaon', 'maude', 'henrietta']\n",
    "    >>> people = [name.capitalize() for name in people]\n",
    "    >>> print(people)\n",
    "    ['Jaon', 'Maude', 'Henrietta']\n",
    "\n",
    "## With A filter:\n",
    "[expression for item in iterable if condition]\n",
    "\n",
    "* condition lets us select specific items from the source list\n",
    "\n",
    "Example:\n",
    "\n",
    "    >>> all_files = os.listdir()\n",
    "    >>> python_files = [file_name for file_name in python_files if file_name.endswith('.py')]\n",
    "    >>> print(python_files)\n",
    "    ['hangman.py', 'args.py', 'writefile.py', 'readfiles.py', 'universal_nogui_widget.py', 'variable_scope.py', 'loop_else.py']\n",
    "\n",
    "#### *Exercise*:\n",
    "\n",
    "Write list comprehinsions in the cell to modify each source list per the instructions in the comment:"
   ]
  },
  {
   "cell_type": "code",
   "execution_count": null,
   "metadata": {},
   "outputs": [],
   "source": []
  },
  {
   "cell_type": "markdown",
   "metadata": {},
   "source": [
    "# For Loops\n",
    "This is really where things start to get interesting.  Anything that we did previously that was repetetive can be wrapped into a loop to make a single chunk of code do things over and over. \n",
    "\n",
    "## basic structure:\n",
    "\n",
    "    for each_thing in many_things:\n",
    "        # do something with each thing\n",
    "        print(each_thing)\n",
    "\n",
    "* \"many_things\" is any iterable - a list, a dictionary, a tuple, a function that yields multiple things, etc.\n",
    "* \"each_thing\" is the name that we use to refer to each item from many_things, one at a time. \n",
    "* The indented do something block contains all of the code we want to run for each_thing.\n",
    "\n",
    "## control commands - continue and break\n",
    "* Inside the loop, we can call \"break\" to exit the loop, even if there are more things in many_things.\n",
    "* Ind we can call \"continue\" to skip to the next item without running any more code on that specific thing.\n",
    "\n",
    "Let's see an example where we are trying to find five animals from a list names with three or fewer letters and then stop when done:\n",
    "    all_animals = ()"
   ]
  },
  {
   "cell_type": "code",
   "execution_count": null,
   "metadata": {},
   "outputs": [],
   "source": [
    "all_animals = ('dog', 'mouse', 'rat', 'squirrel', 'cat', 'rabbit', \n",
    "               'hamster', 'gerbil', 'guinea pig', 'pig', 'cow', 'horse',\n",
    "               'chinchilla', 'ferret', 'hedgehog', 'sugar glider', 'bat')\n",
    "short_animals = []\n",
    "for animal in all_animals:\n",
    "    if len(animal) > 3:\n",
    "        # skip this one\n",
    "        continue\n",
    "    print('found one!', animal)\n",
    "    short_animals.append(animal)\n",
    "    \n",
    "    if len(short_animals) == 5:\n",
    "        print('all done, found enough')\n",
    "        break\n",
    "print('These are the first five short animals:', short_animals)"
   ]
  },
  {
   "cell_type": "code",
   "execution_count": null,
   "metadata": {},
   "outputs": [],
   "source": []
  },
  {
   "cell_type": "markdown",
   "metadata": {},
   "source": [
    "It's worth noting that we could have done this without continue and break, but using them reduces need for indentaton and helps with concise, readble, code. \n",
    "\n",
    "#### *Exercise*:\n",
    "\n",
    "Write a for loop that will try three times to prompt the user for a four letter word.  It should break when a valid word is entered. And after the loop, it should print out the given word.  Something to consider:\n",
    "* What do we do if the user doesn't give a valid word for any of the three tries?  How do we avoid an error in the print statement?  \n",
    "* What are three different ways to make the for loop do the thing three times?\n",
    "* Remember that we can use \"input\" to prompt the user:  word = input('tell me a word')"
   ]
  },
  {
   "cell_type": "code",
   "execution_count": null,
   "metadata": {},
   "outputs": [],
   "source": [
    "# Note that _ is a valid variable name in Python, but it is used to indicate that the variable is not used in the loop.\n",
    "# if you wanted to print an error message and give a count of tries each time, using something like \"count\" in place of \"_\"\n",
    "# would be more appropriate.\n",
    "\n",
    "for _ in ...:\n",
    "    ...\n",
    "print(...)"
   ]
  },
  {
   "cell_type": "markdown",
   "metadata": {},
   "source": [
    "## for else\n",
    "One last thing to mention about for loops is that we can have an else clause that gets calles only if break is not called from within the for loop.  This is like our contingency code for what to do if what we expect doens't happen in the for loop, like we don't find something we're looking for:\n",
    "\n",
    "    for widgit in suitible_widgets:\n",
    "        supplier_stock_qty = check_supplier_stock(widget)\n",
    "        if supplier_stock_qty > 2:\n",
    "            print('Great, we can order', widget)\n",
    "            order_widget = widget\n",
    "            break\n",
    "    else:\n",
    "        print(\"Supplier didn't have any suitible widgets in stock!\")\n",
    "        order_widget = None\n",
    "        notify_supplier(suitible_widgets)\n",
    "\n",
    "This is another case were you could implement it without the for else functoinality, but is reducec the numbers of variables needed and helps to show the intent of your code by using it. \n",
    "\n",
    "The check_supplier_stock and notify_supplier functinos might make rest calls to the supplier web site to check their stock or place an order automatically. "
   ]
  },
  {
   "cell_type": "markdown",
   "metadata": {},
   "source": [
    "# While Loops\n",
    "Much like for loops, we use while loops to do things over and over, but instead of doing it once for each item in a list of objects passed to the loop, we do it until a condition is met.  \n",
    "\n",
    "## General Structure\n",
    "\n",
    "while condition:\n",
    "    do something\n",
    "\n",
    "* Like with for loops, we can call continue and break.\n",
    "* while True: will loop forever becaues True is never False.  We'd have to use break to exit the loop in this case. \n",
    "\n",
    "Let's try our animal example again:"
   ]
  },
  {
   "cell_type": "code",
   "execution_count": 2,
   "metadata": {},
   "outputs": [
    {
     "name": "stdout",
     "output_type": "stream",
     "text": [
      "found one! bat\n",
      "found one! cow\n",
      "found one! pig\n",
      "found one! cat\n",
      "found one! rat\n",
      "These are some short animals: ['bat', 'cow', 'pig', 'cat', 'rat']\n"
     ]
    }
   ],
   "source": [
    "all_animals = ['dog', 'mouse', 'rat', 'squirrel', 'cat', 'rabbit', \n",
    "               'hamster', 'gerbil', 'guinea pig', 'pig', 'cow', 'horse',\n",
    "               'chinchilla', 'ferret', 'hedgehog', 'sugar glider', 'bat']\n",
    "short_animals = []\n",
    "while len(short_animals) < 5:\n",
    "    if len(all_animals) == 0:\n",
    "        print('no more animals to check')\n",
    "        break\n",
    "    animal = all_animals.pop()  # take one from the list and remove it from the list\n",
    "    if len(animal) > 3:\n",
    "        # skip this one\n",
    "        continue\n",
    "    print('found one!', animal)\n",
    "    short_animals.append(animal)\n",
    "\n",
    "print('These are some short animals:', short_animals)"
   ]
  },
  {
   "cell_type": "markdown",
   "metadata": {},
   "source": [
    "What would happen if we didn't check the lengte of all_animals before calling pop?  \n",
    "What would happen if there weren't five short animalis in the list?\n",
    "\n",
    "#### *Exercise*:\n",
    "\n",
    "Write a for lo"
   ]
  },
  {
   "cell_type": "code",
   "execution_count": 1,
   "metadata": {},
   "outputs": [
    {
     "name": "stdout",
     "output_type": "stream",
     "text": [
      "Hello World\n"
     ]
    }
   ],
   "source": [
    "print(\"Hello World\")"
   ]
  },
  {
   "cell_type": "markdown",
   "metadata": {},
   "source": [
    "# Reading files\n",
    "\n",
    "## Reading a csv file"
   ]
  },
  {
   "cell_type": "code",
   "execution_count": null,
   "metadata": {},
   "outputs": [],
   "source": []
  },
  {
   "cell_type": "markdown",
   "metadata": {},
   "source": [
    "# Writing Files"
   ]
  },
  {
   "cell_type": "code",
   "execution_count": null,
   "metadata": {},
   "outputs": [],
   "source": []
  },
  {
   "cell_type": "code",
   "execution_count": null,
   "metadata": {},
   "outputs": [],
   "source": []
  },
  {
   "cell_type": "markdown",
   "metadata": {},
   "source": [
    "# Week 2 Turtle Challenge\n",
    "This week, we can use the power of loops to make shapes of arbitrary numbers of sides with only a few lines of code!\n",
    "\n",
    "#### *Exercise*:\n",
    "* Use variables for number_of_sides, side_length and a loop to draw regular polygons of any size and number of sides.  You can use another variable, turn_angle, that is equal to 360 divided by the number of sides.  Try doing this using a counter as we did last week and a while loop that checks if the counter is less than number_of_sides.\n",
    "* Do the same thing, but with a for loop, iterating over range(number_of_sides) and omit the counter.\n"
   ]
  },
  {
   "cell_type": "markdown",
   "metadata": {},
   "source": []
  }
 ],
 "metadata": {
  "kernelspec": {
   "display_name": "venv",
   "language": "python",
   "name": "python3"
  },
  "language_info": {
   "codemirror_mode": {
    "name": "ipython",
    "version": 3
   },
   "file_extension": ".py",
   "mimetype": "text/x-python",
   "name": "python",
   "nbconvert_exporter": "python",
   "pygments_lexer": "ipython3",
   "version": "3.12.3"
  }
 },
 "nbformat": 4,
 "nbformat_minor": 2
}

{
 "cells": [
  {
   "cell_type": "markdown",
   "metadata": {},
   "source": [
    "# Week 2\n",
    "\n",
    "**Topics**: Dictionaries and advanced control flow - for and while loops - and list comprehinsions.\n",
    "\n",
    "This is a very exciting week.  Dictionaries are so useful for organizing things, and with the introductin of loops, we become real programmers who can perform large tasks with concise bits of code.  The Exercises below for the loops are hopefully kind of challenging requring you to use conditoinals, variables, lists, and if else branching!\n",
    "\n",
    "# Dictionaries\n",
    "Dictionaries are for key: value collections.  \n",
    "\n",
    "This could be useful for many reasons!  Here's  asimple example, and below a more complex example.  Some exersices will follow breaking this stuff down. \n",
    "\n",
    "## Defining dictionaries with content ready to reference:\n",
    "We follow the {key: value, key2: value2, ... } pattern for this."
   ]
  },
  {
   "cell_type": "code",
   "execution_count": 4,
   "metadata": {},
   "outputs": [],
   "source": [
    "colors = {\n",
    "    \"white\": \"#FFFFFF\",\n",
    "    \"black\": \"#000000\",\n",
    "    \"red\": \"#FF0000\"\n",
    "}"
   ]
  },
  {
   "cell_type": "markdown",
   "metadata": {},
   "source": [
    "Note that keys can be any immutable object!\n",
    "* strings\n",
    "* numbers\n",
    "* tuples\n",
    "\n",
    "You **cannot use lists** as dictionary keys.\n",
    "\n",
    "## Using/Accessing dictionary data\n",
    "We have a few ways to use dictionaries:\n",
    "* Look values up by key\n",
    "* See what keys are in the directory\n",
    "* See what values ar in the dictionary\n",
    "* See all key:value pairs in the dictionary\n",
    "* And some other more obscure stuff to read about later."
   ]
  },
  {
   "cell_type": "code",
   "execution_count": 11,
   "metadata": {},
   "outputs": [
    {
     "name": "stdout",
     "output_type": "stream",
     "text": [
      "The color code for white is #fffffff\n",
      "The colors in this dictionary are: dict_keys(['white', 'black', 'red', 'blue'])\n",
      "The values in this dictionary are: dict_values(['#fffffff', '#000000', '#FF0000', '#0000FF'])\n",
      "And the k:v pairs, aka items, in the dictionary are: dict_items([('white', '#fffffff'), ('black', '#000000'), ('red', '#FF0000'), ('blue', '#0000FF')]) \n",
      "\n",
      "It can be helpful to iterate ovr the items in a dictionary like this:\n",
      "    The color \"white\" has the code \"#fffffff\"\n",
      "    The color \"black\" has the code \"#000000\"\n",
      "    The color \"red\" has the code \"#FF0000\"\n",
      "    The color \"blue\" has the code \"#0000FF\"\n"
     ]
    }
   ],
   "source": [
    "print('The color code for white is', colors['white'])\n",
    "print('The colors in this dictionary are:', colors.keys())\n",
    "print('The values in this dictionary are:', colors.values())\n",
    "print('And the k:v pairs, aka items, in the dictionary are:', colors.items(), '\\n')\n",
    "\n",
    "print('It can be helpful to iterate ovr the items in a dictionary like this:')\n",
    "for color, code in colors.items():\n",
    "    print(f'    The color \"{color}\" has the code \"{code}\"')"
   ]
  },
  {
   "cell_type": "markdown",
   "metadata": {},
   "source": [
    "## Overwriting keys or adding new data to a dictionary:\n",
    "Assigmint is the same whether or not the key is already in the dictionary.  If it exists already, it will be overwritten with the new value:"
   ]
  },
  {
   "cell_type": "code",
   "execution_count": 8,
   "metadata": {},
   "outputs": [
    {
     "name": "stdout",
     "output_type": "stream",
     "text": [
      "Current colors: dict_items([('white', '#FFFFFF'), ('black', '#000000'), ('red', '#FF0000')])\n",
      "Colors now: dict_items([('white', '#fffffff'), ('black', '#000000'), ('red', '#FF0000'), ('blue', '#0000FF')])\n"
     ]
    }
   ],
   "source": [
    "print('Current colors:', colors.items())\n",
    "colors[\"blue\"] = \"#0000FF\"\n",
    "colors[\"white\"] = \"#fffffff\"\n",
    "print('Colors now:', colors.items())"
   ]
  },
  {
   "cell_type": "markdown",
   "metadata": {},
   "source": [
    "## Accessing or calling values in dictionaries\n",
    "When we use a dictionary to access an oject, it is the same as having a separate variable pointing to the object.  Let's explain with an example:"
   ]
  },
  {
   "cell_type": "code",
   "execution_count": 9,
   "metadata": {},
   "outputs": [
    {
     "name": "stdout",
     "output_type": "stream",
     "text": [
      "Cars: ['toyota'] ['toyota']\n",
      "Bicycles: ['schwinn'] ['schwinn']\n"
     ]
    }
   ],
   "source": [
    "cars = []\n",
    "bicycles = []\n",
    "\n",
    "vehicles = {\n",
    "    \"motorcars\": cars,\n",
    "    \"pedalbikes\": bicycles\n",
    "}\n",
    "\n",
    "cars.append('toyota')\n",
    "vehicles[\"pedalbikes\"].append('schwinn')\n",
    "\n",
    "print('Cars:', cars, vehicles['motorcars'])\n",
    "print('Bicycles:', bicycles, vehicles['pedalbikes'])"
   ]
  },
  {
   "cell_type": "markdown",
   "metadata": {},
   "source": [
    "There are a few notable things happening here:\n",
    "* We create cars and bicycles variables pointing to lists\n",
    "* We create a dictionary with string keys and associated the keys with whatever the variables were associated with.  In this case, the very same lists the variables refer to.\n",
    "* We add something to the cars list using the variable\n",
    "* We add something to the bicycles list using it's key in the dictionary\n",
    "* Demonstrate that when we print using the variables and the dictionary, we see the same updated list in both cases. \n",
    "\n",
    "This concept can be expanded in lots of ways:\n",
    "* lists of lists\n",
    "* nested dictionaries\n",
    "\n",
    "And it raises need for discussion about what is passing by reference, what is passing by value, and when do we need to think about this?  But that's too much for now!"
   ]
  },
  {
   "cell_type": "markdown",
   "metadata": {},
   "source": [
    "Let's play with all of this!\n",
    "\n"
   ]
  },
  {
   "cell_type": "markdown",
   "metadata": {},
   "source": [
    "\n",
    "And we can use variables and loops (explanation of loops below) to be more dynamic:\n",
    "\n",
    "\n",
    "**Mapping human readable values to hex codes**\n",
    "In this example, we pre-define a bunch of colors and hex values they represent.\n",
    "\n",
    "\n",
    "        \"green\": \"#008000\",\n",
    "        \"blue\": \n",
    "        \"yellow\": \"#FFFF00\",\n",
    "        \"cyan\": \"#00FFFF\",\n",
    "        \"magenta\": \"#FF00FF\"\n",
    "    }\n",
    "\n",
    "    text_color_code = colors[\"blue\"]\n",
    "\n",
    "**Grouping files for processing by analysis type**\n",
    "This jumps ahead a little by using a for loop, but this is really helpful use case for dictionies.  Imagine you have a bunch of data files that use similar processing overall, but with small differences depeding on the particlar analyte beig looked at.  We can group common data files in a dictionary and then use the same code on them all later. We'll expand on later, but try to internalize what's happening here:\n",
    "\n",
    "all_files = {'chloraphyl': [], 'nitrogen': [], 'salinity': []}\n",
    "for file_name in os.listdir():\n",
    "    if 'chloraphyl' in file_name:\n",
    "        all_files['chloraphyl'].append(file_name)\n",
    "    elif 'nitrogen' in file_name:\n",
    "        all_files['nitrogen'].append(file_name)\n",
    "    elif 'ph' in file_name:\n",
    "        all_files['salinity'].append(file_name)\n",
    "    else:\n",
    "        print('Warning, unknown file:', file_name)\n",
    "\n",
    "* all_files is a dictionary with three key: value pairs.  \n",
    "* the key is teh analyte name that we're looking for in the file names\n",
    "* the value is a list that we will append each matching file name to. \n",
    "* os.listdir() returns a list of all of the files in the current working directory.  You could also pass it a path to another directory if needed. \n",
    "\n",
    "We'll get a dictionary that looks like this afterward:\n",
    ">>> all_files\n",
    "{'chloraphyl': ['chloraphyl_20240202.xlsx', 'chloraphyl_20240202.xlsx', 'chloraphyl_20240202.xlsx',],\n",
    " 'nitrogen': ['nitrogen_20240202.xlsx', 'nitrogen20240202.xlsx',],\n",
    " 'salinity': ['salinity_20240202.xlsx', 'salinity_20240202.xlsx'] }"
   ]
  },
  {
   "cell_type": "code",
   "execution_count": null,
   "metadata": {},
   "outputs": [],
   "source": []
  },
  {
   "cell_type": "markdown",
   "metadata": {},
   "source": [
    "# For Loops\n",
    "This is really where things start to get interesting.  Anything that we did previously that was repetetive can be wrapped into a loop to make a single chunk of code do things over and over. \n",
    "\n",
    "## basic structure:\n",
    "\n",
    "    for each_thing in many_things:\n",
    "        # do something with each thing\n",
    "        print(each_thing)\n",
    "\n",
    "* \"many_things\" is any iterable - a list, a dictionary, a tuple, a function that yields multiple things, etc.\n",
    "* \"each_thing\" is the name that we use to refer to each item from many_things, one at a time. \n",
    "* The indented do something block contains all of the code we want to run for each_thing.\n",
    "\n",
    "## control commands - continue and break\n",
    "* Inside the loop, we can call \"break\" to exit the loop, even if there are more things in many_things.\n",
    "* Ind we can call \"continue\" to skip to the next item without running any more code on that specific thing.\n",
    "\n",
    "Let's see an example where we are trying to find five animals from a list names with three or fewer letters and then stop when done:\n",
    "    all_animals = ()"
   ]
  },
  {
   "cell_type": "code",
   "execution_count": null,
   "metadata": {},
   "outputs": [],
   "source": [
    "all_animals = ('dog', 'mouse', 'rat', 'squirrel', 'cat', 'rabbit', \n",
    "               'hamster', 'gerbil', 'guinea pig', 'pig', 'cow', 'horse',\n",
    "               'chinchilla', 'ferret', 'hedgehog', 'sugar glider', 'bat')\n",
    "short_animals = []\n",
    "for animal in all_animals:\n",
    "    if len(animal) > 3:\n",
    "        # skip this one\n",
    "        continue\n",
    "    print('found one!', animal)\n",
    "    short_animals.append(animal)\n",
    "    \n",
    "    if len(short_animals) == 5:\n",
    "        print('all done, found enough')\n",
    "        break\n",
    "print('These are the first five short animals:', short_animals)"
   ]
  },
  {
   "cell_type": "markdown",
   "metadata": {},
   "source": [
    "It's worth noting that we could have done this without continue and break, but using them reduces need for indentaton and helps with concise, readble, code. \n",
    "\n",
    "#### *Exercise*:\n",
    "\n",
    "Write a for loop that will try three times to prompt the user for a four letter word.  It should break when a valid word is entered. And after the loop, it should print out the given word.  Something to consider:\n",
    "* What do we do if the user doesn't give a valid word for any of the three tries?  How do we avoid an error in the print statement?  \n",
    "* What are three different ways to make the for loop do the thing three times?\n",
    "* Remember that we can use \"input\" to prompt the user:  word = input('tell me a word')"
   ]
  },
  {
   "cell_type": "code",
   "execution_count": null,
   "metadata": {},
   "outputs": [],
   "source": [
    "# Note that _ is a valid variable name in Python, but it is used to indicate that the variable is not used in the loop.\n",
    "# if you wanted to print an error message and give a count of tries each time, using something like \"count\" in place of \"_\"\n",
    "# would be more appropriate.\n",
    "\n",
    "for _ in ...:\n",
    "    ...\n",
    "print(...)"
   ]
  },
  {
   "cell_type": "markdown",
   "metadata": {},
   "source": [
    "## for else\n",
    "One last thing to mention about for loops is that we can have an else clause that gets calles only if break is not called from within the for loop.  This is like our contingency code for what to do if what we expect doens't happen in the for loop, like we don't find something we're looking for:"
   ]
  },
  {
   "cell_type": "markdown",
   "metadata": {},
   "source": [
    "    for widgit in suitible_widgets:\n",
    "        supplier_stock_qty = check_supplier_stock(widget)\n",
    "        if supplier_stock_qty > 2:\n",
    "            print('Great, we can order', widget)\n",
    "            order_widget = widget\n",
    "            break\n",
    "    else:\n",
    "        print(\"Supplier didn't have any suitible widgets in stock!\")\n",
    "        order_widget = None\n",
    "        notify_supplier(suitible_widgets)"
   ]
  },
  {
   "cell_type": "markdown",
   "metadata": {},
   "source": [
    "You could implement this without the for else functionality, but this reduces the numbers of variables needed and helps to show the intent of your code by using it. \n",
    "\n",
    "The check_supplier_stock and notify_supplier functinos might make rest calls to the supplier web site to check their stock or place an order automatically. \n",
    "\n",
    "#### *Exercise*:\n",
    "\n",
    "Modify your user prompt for loop above so that if the user doesn't give a valid response and break is never calles, the else block prints an error message."
   ]
  },
  {
   "cell_type": "code",
   "execution_count": null,
   "metadata": {},
   "outputs": [],
   "source": [
    "for _ in ...:\n",
    "    ...\n",
    "    print(...)  \n",
    "    break\n",
    "else:\n",
    "    print(...)  # error message here"
   ]
  },
  {
   "cell_type": "markdown",
   "metadata": {},
   "source": [
    "# While Loops\n",
    "Much like for loops, we use while loops to do things over and over, but instead of doing it once for each item in a list of objects passed to the loop, we do it until a condition is met.  \n",
    "\n",
    "## General Structure\n",
    "\n",
    "while condition:\n",
    "    do something\n",
    "\n",
    "* Like with for loops, we can call continue and break.\n",
    "* while True: will loop forever becaues True is never False.  We'd have to use break to exit the loop in this case. \n",
    "\n",
    "Let's try our animal example again:"
   ]
  },
  {
   "cell_type": "code",
   "execution_count": 2,
   "metadata": {},
   "outputs": [
    {
     "name": "stdout",
     "output_type": "stream",
     "text": [
      "found one! bat\n",
      "found one! cow\n",
      "found one! pig\n",
      "found one! cat\n",
      "found one! rat\n",
      "These are some short animals: ['bat', 'cow', 'pig', 'cat', 'rat']\n"
     ]
    }
   ],
   "source": [
    "\n",
    "all_animals = ['dog', 'mouse', 'rat', 'squirrel', 'cat', 'rabbit', \n",
    "               'hamster', 'gerbil', 'guinea pig', 'pig', 'cow', 'horse',\n",
    "               'chinchilla', 'ferret', 'hedgehog', 'sugar glider', 'bat']\n",
    "short_animals = []\n",
    "while len(short_animals) < 5:\n",
    "    if len(all_animals) == 0:\n",
    "        print('no more animals to check')\n",
    "        break\n",
    "    animal = all_animals.pop()  # take one from the list and remove it from the list\n",
    "    if len(animal) > 3:\n",
    "        # skip this one\n",
    "        continue\n",
    "    print('found one!', animal)\n",
    "    short_animals.append(animal)\n",
    "\n",
    "print('These are some short animals:', short_animals)"
   ]
  },
  {
   "cell_type": "markdown",
   "metadata": {},
   "source": [
    "What would happen if we didn't check the lengte of all_animals before calling pop?  \n",
    "What would happen if there weren't five short animalis in the list?\n",
    "\n",
    "#### *Exercise*:\n",
    "\n",
    "Let's use a while loop to make a guessing game!  We'll generate a random number from 1 to 100 and, in the loop, prompt the user for a guess.  Tell the user if the number is higher or lower than the mystery number. Use a condition on the loop to have it exit automatically when the user has guessed correctly and print a congratulations after the loop!"
   ]
  },
  {
   "cell_type": "code",
   "execution_count": null,
   "metadata": {},
   "outputs": [],
   "source": [
    "import random\n",
    "mystery_number = random.randint(1, 100)\n",
    "user_guess = -1  # start with an invalid guess\n",
    "while ...:\n",
    "    ...\n",
    "print('You got it!')"
   ]
  },
  {
   "cell_type": "markdown",
   "metadata": {},
   "source": [
    "# List Comprehensions\n",
    "You can get by without these, but they're a nice tool for doing simple operations to lists of things that reduces code bloat and improves readabiity if you don't get too crazy.\n",
    "\n",
    "Consider this very standard for loop:"
   ]
  },
  {
   "cell_type": "code",
   "execution_count": 12,
   "metadata": {},
   "outputs": [
    {
     "name": "stdout",
     "output_type": "stream",
     "text": [
      "['Jaon', 'Maude', 'Henrietta']\n"
     ]
    }
   ],
   "source": [
    "people = ['joan', 'maude', 'henrietta']\n",
    "tmp_list = []\n",
    "for name in people:\n",
    "    tmp_list.append(name.capitalize())\n",
    "people = tmp_list\n",
    "print(people)"
   ]
  },
  {
   "cell_type": "markdown",
   "metadata": {},
   "source": [
    "We can replace it with this simple structure:\n",
    "\n",
    "**[expression for item in iterable]**\n",
    "\n",
    "* expression: This is the value that will be included in the new list.  It uses the item to do something.\n",
    "* item: This is a variable that takes the value of each element in the iterable.\n",
    "* iterable: This is any Python object capable of returning its members one at a time, such as a list, range, string, etc."
   ]
  },
  {
   "cell_type": "code",
   "execution_count": 16,
   "metadata": {},
   "outputs": [
    {
     "name": "stdout",
     "output_type": "stream",
     "text": [
      "['Jaon', 'Maude', 'Henrietta']\n"
     ]
    }
   ],
   "source": [
    "people = ['joan', 'maude', 'henrietta']\n",
    "people = [name.capitalize() for name in people]\n",
    "print(people)"
   ]
  },
  {
   "cell_type": "markdown",
   "metadata": {},
   "source": [
    "## With A filter:\n",
    "Use a filter to select specific items from the source list:\n",
    "\n",
    "**[expression for item in iterable if condition]**\n",
    "\n",
    "* condition lets us select specific items from the source list"
   ]
  },
  {
   "cell_type": "code",
   "execution_count": 15,
   "metadata": {},
   "outputs": [
    {
     "name": "stdout",
     "output_type": "stream",
     "text": [
      "['hangman.py', 'args.py', 'writefile.py']\n"
     ]
    }
   ],
   "source": [
    "# In practice, you would list files from a directory like this:\n",
    "# all_files = os.listdir('optional/path/to/directory')\n",
    "# But for this example, we'll just use a pretend listing:\n",
    "all_files = ['readme.md', 'data.csv', 'event.log', 'config.json', 'config.yaml', 'hangman.py', 'args.py', 'writefile.py']\n",
    "python_files = [file_name for file_name in all_files if file_name.endswith('.py')]\n",
    "print(python_files)"
   ]
  },
  {
   "cell_type": "markdown",
   "metadata": {},
   "source": [
    " Let's try this for ourselves!\n",
    "\n",
    "#### *Exercise*:\n",
    "\n",
    "Write list comprehinsions in the code cell to modify each source list per the instructions in the comment.  Replace each '...'."
   ]
  },
  {
   "cell_type": "code",
   "execution_count": null,
   "metadata": {},
   "outputs": [],
   "source": [
    "# String manipulation - convert the list of signs to all upper case:\n",
    "street_signs = ['stop', 'yield', 'one way', 'speed limit', 'wrong way']\n",
    "street_signs = [...] # use a list comprehension to convert the signs to upper case\n",
    "print(street_signs)\n",
    "\n",
    "# String slicing - truncate the names to the first 4 characters:\n",
    "names = ['Clarice', 'Fernando', 'Xavier', 'Mildred']\n",
    "# names = ['Clarice', 'Fernando', 'Ed', 'Tim']  # Challenge mode, make it not error on short names\n",
    "names = [...] # use a list comprehension to truncate the names to the first 4 characters\n",
    "\n",
    "# Conditional - use the if condition to select which values will be kept\n",
    "actual_berries = ('blueberry', 'raspberry', 'strawberry', 'blackberry')\n",
    "found_fruit = ['strawberry', 'banana', 'kiwi', 'blueberry', 'raspberry', 'blackberry', 'yuzu']\n",
    "found_berries = [...] # use a list comprehension to create a list of berries from the found_fruit list"
   ]
  },
  {
   "cell_type": "markdown",
   "metadata": {},
   "source": [
    "## For loops with multiple variables\n",
    "\n",
    "A very common use case for this is when we want to iterate over key:value pairs of a dictionary. An example:"
   ]
  },
  {
   "cell_type": "code",
   "execution_count": null,
   "metadata": {},
   "outputs": [],
   "source": [
    "animal_sounds = {\n",
    "    'dog': 'bark',  'cat': 'meow',   'cow': 'moo',\n",
    "}\n",
    "for animal, sound in animal_sounds.items():\n",
    "    print(f'The {animal} says \"{sound}\"')\n",
    "    \n",
    "# An alternative way to do this is:\n",
    "for animal in animal_sounds:\n",
    "    print(f'Again, the {animal} says \"{animal_sounds[animal]}\"')\n",
    "    \n",
    "# Or even:\n",
    "for animal_and_sound in animal_sounds.items():\n",
    "    animal, sound = animal_and_sound\n",
    "    print(f'And again, the {animal} says \"{sound}\"')"
   ]
  },
  {
   "cell_type": "markdown",
   "metadata": {},
   "source": [
    "## Nested loops\n",
    "\n",
    "Nesting loops can make code complicated very quickly, but it's very useful to do.  Here's an example where we have a dictionary with the values being lists of things.  We can iterate through the dictoinary and then itereate throug it's items before going to the next key in the dictinoary."
   ]
  },
  {
   "cell_type": "code",
   "execution_count": 21,
   "metadata": {},
   "outputs": [
    {
     "name": "stdout",
     "output_type": "stream",
     "text": [
      "Chardonnay pairs well with:\n",
      "    fish\n",
      "    chicken\n",
      "    pork\n",
      "Merlot pairs well with:\n",
      "    beef\n",
      "    lamb\n",
      "    pasta\n",
      "Sauvignon Blanc pairs well with:\n",
      "    salad\n",
      "    veggies\n",
      "    pasta\n"
     ]
    }
   ],
   "source": [
    "wine_pairings = {\n",
    "    'chardonnay': ['fish', 'chicken', 'pork'],\n",
    "    'merlot': ['beef', 'lamb', 'pasta'],\n",
    "    'sauvignon blanc': ['salad', 'veggies', 'pasta'],\n",
    "}\n",
    "for wine, pairings in wine_pairings.items():\n",
    "    print(f'{wine.title()} pairs well with:')\n",
    "    for pairing in pairings:\n",
    "        print(f'    {pairing}')"
   ]
  },
  {
   "cell_type": "markdown",
   "metadata": {},
   "source": [
    "No we see how loops can be both useful and delicious!\n",
    "\n",
    "#### *Exercise*:\n",
    "\n",
    "Let's make a tool that collects students grades in several subjects, stores then in a dictionary, and then summarizes them for us. To keep this simple, we can start by storing just a list of grades for each student, but to make things more complicated, we could:\n",
    "* Use nested dictinoaries to store each student's grades for each subject separately.\n",
    "* Report which student did the best in each subject\n",
    "* Improve input validation"
   ]
  },
  {
   "cell_type": "code",
   "execution_count": 1,
   "metadata": {},
   "outputs": [
    {
     "name": "stdout",
     "output_type": "stream",
     "text": [
      "Hello World\n"
     ]
    }
   ],
   "source": [
    "students = {'Stanley': [], 'Casey': [], 'Taylor': []}\n",
    "subjects = ['math', 'science', 'history']\n",
    "\n",
    "# First iterate through the students, gettint their name, and a reference to the list to store their grades in:\n",
    "for student, grades in ...:\n",
    "    # Then iterate through the subjects and prompt for a grade for the student for each subject:\n",
    "    for subject in ...:\n",
    "        grade = input(...)\n",
    "        # convert it to float\n",
    "        # Store the grade in the list of grades for the student\n",
    "        \n",
    "# And now summarize the grades for each student:\n",
    "for ...:\n",
    "    average = ...\n",
    "    best = ...\n",
    "    worst = ...\n",
    "    # Print stats for the student:\n",
    "    print(...)"
   ]
  },
  {
   "cell_type": "markdown",
   "metadata": {},
   "source": [
    "# Reading files\n",
    "\n",
    "## Reading a csv file"
   ]
  },
  {
   "cell_type": "code",
   "execution_count": null,
   "metadata": {},
   "outputs": [],
   "source": []
  },
  {
   "cell_type": "markdown",
   "metadata": {},
   "source": [
    "# Writing Files"
   ]
  },
  {
   "cell_type": "code",
   "execution_count": null,
   "metadata": {},
   "outputs": [],
   "source": []
  },
  {
   "cell_type": "code",
   "execution_count": null,
   "metadata": {},
   "outputs": [],
   "source": []
  },
  {
   "cell_type": "markdown",
   "metadata": {},
   "source": [
    "# Week 2 Turtle Challenge\n",
    "This week, we can use the power of loops to make shapes of arbitrary numbers of sides with only a few lines of code!\n",
    "\n",
    "#### *Exercise*:\n",
    "* Use variables for number_of_sides, side_length and a loop to draw regular polygons of any size and number of sides.  You can use another variable, turn_angle, that is equal to 360 divided by the number of sides.  Try doing this using a counter as we did last week and a while loop that checks if the counter is less than number_of_sides.\n",
    "* Do the same thing, but with a for loop, iterating over range(number_of_sides) and omit the counter.\n"
   ]
  },
  {
   "cell_type": "markdown",
   "metadata": {},
   "source": []
  }
 ],
 "metadata": {
  "kernelspec": {
   "display_name": "venv",
   "language": "python",
   "name": "python3"
  },
  "language_info": {
   "codemirror_mode": {
    "name": "ipython",
    "version": 3
   },
   "file_extension": ".py",
   "mimetype": "text/x-python",
   "name": "python",
   "nbconvert_exporter": "python",
   "pygments_lexer": "ipython3",
   "version": "3.12.3"
  }
 },
 "nbformat": 4,
 "nbformat_minor": 2
}

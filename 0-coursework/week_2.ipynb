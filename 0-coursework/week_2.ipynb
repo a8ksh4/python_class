{
 "cells": [
  {
   "cell_type": "markdown",
   "metadata": {},
   "source": [
    "# Week 2"
   ]
  },
  {
   "cell_type": "markdown",
   "metadata": {},
   "source": [
    "Exploring more complex data types (lists, tuples, dictionaries) and advanced control flow (loops: for and while)."
   ]
  },
  {
   "cell_type": "code",
   "execution_count": 1,
   "metadata": {},
   "outputs": [
    {
     "name": "stdout",
     "output_type": "stream",
     "text": [
      "Hello World\n"
     ]
    }
   ],
   "source": [
    "print(\"Hello World\")"
   ]
  },
  {
   "cell_type": "code",
   "execution_count": null,
   "metadata": {},
   "outputs": [],
   "source": []
  },
  {
   "cell_type": "code",
   "execution_count": null,
   "metadata": {},
   "outputs": [],
   "source": []
  },
  {
   "cell_type": "markdown",
   "metadata": {},
   "source": [
    "# Week 2 Turtle Challenge\n",
    "This week, we can use the power of loops to make shapes of arbitrary numbers of sides with only a few lines of code!\n",
    "\n",
    "#### *Exercise*:\n",
    "* Use variables for number_of_sides, side_length and a loop to draw regular polygons of any size and number of sides.  You can use another variable, turn_angle, that is equal to 360 divided by the number of sides.  Try doing this using a counter as we did last week and a while loop that checks if the counter is less than number_of_sides.\n",
    "* Do the same thing, but with a for loop, iterating over range(number_of_sides) and omit the counter.\n"
   ]
  },
  {
   "cell_type": "markdown",
   "metadata": {},
   "source": []
  }
 ],
 "metadata": {
  "kernelspec": {
   "display_name": "venv",
   "language": "python",
   "name": "python3"
  },
  "language_info": {
   "codemirror_mode": {
    "name": "ipython",
    "version": 3
   },
   "file_extension": ".py",
   "mimetype": "text/x-python",
   "name": "python",
   "nbconvert_exporter": "python",
   "pygments_lexer": "ipython3",
   "version": "3.11.6"
  }
 },
 "nbformat": 4,
 "nbformat_minor": 2
}

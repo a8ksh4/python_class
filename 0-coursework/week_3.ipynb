{
 "cells": [
  {
   "cell_type": "markdown",
   "metadata": {},
   "source": [
    "# Week 3\n",
    "\n",
    "**Topics**: Introducing functions and modules in Python. Basic introduction to pandas for data analysis, focusing on importing data and initial data exploration."
   ]
  },
  {
   "cell_type": "code",
   "execution_count": 1,
   "metadata": {},
   "outputs": [
    {
     "name": "stdout",
     "output_type": "stream",
     "text": [
      "Foo\n"
     ]
    }
   ],
   "source": [
    "print('Foo')"
   ]
  },
  {
   "cell_type": "code",
   "execution_count": null,
   "metadata": {},
   "outputs": [],
   "source": []
  },
  {
   "cell_type": "markdown",
   "metadata": {},
   "source": [
    "## Functions\n",
    "\n",
    "### Positional Arguments\n",
    "\n",
    "### Optional Arguments \n",
    "\n",
    "### Keyword Arguments\n",
    "\n",
    "### Arbitrary Arguments\n",
    "We won't get into this, but look into *args and **kwargs.  You can make a funcation accept any arguments.  An example use for this is cerating your own version of the print function:\n",
    "\n",
    "    DEBUG = True\n",
    "\n",
    "    def debug_print(*args, **kwargs):\n",
    "        if DEBUG:\n",
    "            print(*args, **kwargs)\n"
   ]
  },
  {
   "cell_type": "markdown",
   "metadata": {},
   "source": [
    "## Imprting Data\n",
    "\n",
    "### Reading Files\n",
    "\n",
    "### Reading Files with Pandas\n",
    "\n",
    "### Query Database\n",
    "\n",
    "### Query Website with requests\n",
    "import requests\n",
    "import pandas as pd\n",
    "\n",
    "# URL for NDBC buoy data (e.g., Station 46042 - Monterey Bay)\n",
    "url = 'https://www.ndbc.noaa.gov/data/realtime2/46042.txt'\n",
    "\n",
    "# Send a GET request to fetch the data\n",
    "response = requests.get(url)\n",
    "\n",
    "# Check if the request was successful\n",
    "`\n",
    "if response.status_code == 200:\n",
    "    # Read the data into a pandas DataFrame\n",
    "    data = response.text.splitlines()\n",
    "    headers = data[0].split()\n",
    "    rows = [row.split() for row in data[2:]]\n",
    "    df = pd.DataFrame(rows, columns=headers)\n",
    "    \n",
    "    # Convert relevant columns to numeric types\n",
    "    df['YY'] = pd.to_numeric(df['YY'], errors='coerce')\n",
    "    df['MM'] = pd.to_numeric(df['MM'], errors='coerce')\n",
    "    df['DD'] = pd.to_numeric(df['DD'], errors='coerce')\n",
    "    df['hh'] = pd.to_numeric(df['hh'], errors='coerce')\n",
    "    df['mm'] = pd.to_numeric(df['mm'], errors='coerce')\n",
    "    df['WTMP'] = pd.to_numeric(df['WTMP'], errors='coerce')\n",
    "    \n",
    "    # Convert date and time columns to a single datetime column\n",
    "    df['Datetime'] = pd.to_datetime(df[['YY', 'MM', 'DD', 'hh', 'mm']])\n",
    "    \n",
    "    # Set the datetime column as the index\n",
    "    df.set_index('Datetime', inplace=True)\n",
    "    \n",
    "    # Keep only the relevant columns\n",
    "    df = df[['WTMP']]\n",
    "    \n",
    "    # Print the DataFrame\n",
    "    print(df)\n",
    "else:\n",
    "    print(f\"Failed to retrieve data: {response.status_code}\")\n",
    "`"
   ]
  },
  {
   "cell_type": "markdown",
   "metadata": {},
   "source": [
    "# Week 3 Turtle Challenge\n",
    "This week, we can use functions to isolate complex operations into little chunks that are used by other code to perform complex behavior with simple, readable, code.\n",
    "  \n",
    "#### *Exercise*:\n",
    "* "
   ]
  },
  {
   "cell_type": "markdown",
   "metadata": {},
   "source": []
  }
 ],
 "metadata": {
  "kernelspec": {
   "display_name": "venv",
   "language": "python",
   "name": "python3"
  },
  "language_info": {
   "codemirror_mode": {
    "name": "ipython",
    "version": 3
   },
   "file_extension": ".py",
   "mimetype": "text/x-python",
   "name": "python",
   "nbconvert_exporter": "python",
   "pygments_lexer": "ipython3",
   "version": "3.11.6"
  }
 },
 "nbformat": 4,
 "nbformat_minor": 2
}

{
 "cells": [
  {
   "cell_type": "markdown",
   "metadata": {},
   "source": [
    "# Week 3\n",
    "\n",
    "**Topics**: Introducing functions and modules in Python. Basic introduction to pandas for data analysis, focusing on importing data and initial data exploration."
   ]
  },
  {
   "cell_type": "code",
   "execution_count": 1,
   "metadata": {},
   "outputs": [
    {
     "name": "stdout",
     "output_type": "stream",
     "text": [
      "Foo\n"
     ]
    }
   ],
   "source": [
    "print('Foo')"
   ]
  },
  {
   "cell_type": "code",
   "execution_count": null,
   "metadata": {},
   "outputs": [],
   "source": []
  },
  {
   "cell_type": "markdown",
   "metadata": {},
   "source": [
    "## Functions\n",
    "We use functions for a few things:\n",
    "* Reduce dupliation in code - use the same function in multiple places in your code.\n",
    "* Simplify code - breaking down complex code into smaller, separate, problems make the entire code more managable and maintainable. \n",
    "* Readability - named functions say specifically what they're going to do, so our program is less cluttered and easier to follow. \n",
    "\n",
    "### Scope\n",
    "This is a new concept for us - there are certain places where variables can be defined that they will be unaccessible externally.  The variables have a specific scope in which they can be used. \n",
    "* **Global** - variables defined outside of functinos, classes, etc, in your program are accessible from everywhere. However, it's bad practice to use global variables from inside of functions as it makes it hard to follow what data is used by the function.  Side effects can be introduced.\n",
    "* **Functions** - variables defined inside of functions are not visible outside of the function.  This means we don't neeed to worry about accidentally using a variable from a(nother) function when we don't mean to. \n",
    "* **Classes/Objects** - objects (instances of a class) have thier own variables/properties and functions that aren't accessible externally.\n",
    "* **Modules** - modules imported like, \"import pandas\", have their own scope inside of \"pandas\" that we access via the module name, like \"pandas.DataFrame\".  If we were to do \"from pandas import *\", then all things in the pandas namespace would be populated into our global namespace and we could directly access DataFrame.  This can introduce problems, e.g., if multiple modules have things with the same name inside of them. It's better to import specific things to our global namespace if wanted... \"from pandas import DataFrame\" will only add the DataFrame class to our global namespace.\n",
    "* And a few other places.  Try except blocks, inside of list comprehensions, etc.\n",
    "\n",
    "What this means to us with regard to functions is that we should pass data the function needs in as arguments, create any variables in the function that we need without worrying about them polluting the namespace of our greater program, and then return the important data from the function with a return call.\n",
    "\n",
    "### General Format\n",
    "Here's how we define a function:\n",
    "\n",
    "    def function_name(arg1, arg2, ...):\n",
    "        '''function description in tripple quoted block of text.\n",
    "        This is not mandatory, but is good practice.'''\n",
    "        function\n",
    "        code\n",
    "        here\n",
    "        return some_value\n",
    "\n",
    "We can only return one object, but because that object can be a collection like a list or dictionary, we can bundle things to pass them all out.  "
   ]
  },
  {
   "cell_type": "code",
   "execution_count": 4,
   "metadata": {},
   "outputs": [
    {
     "name": "stdout",
     "output_type": "stream",
     "text": [
      "The function says - Sum: 15, Count: 5, Average: 3.0\n"
     ]
    }
   ],
   "source": [
    "def compute_stats_on_numbers(list_of_numbers):\n",
    "    sum_of_numbers = sum(list_of_numbers)\n",
    "    count_of_numbers = len(list_of_numbers)\n",
    "    average_of_numbers = sum_of_numbers / count_of_numbers\n",
    "    return sum_of_numbers, count_of_numbers, average_of_numbers  # This is a tuple.  The () around it are implied\n",
    "\n",
    "numbers = [1, 2, 3, 4, 5]\n",
    "num_sum, num_count, num_avg = compute_stats_on_numbers(numbers)\n",
    "\n",
    "print(f'The function says - Sum: {num_sum}, Count: {num_count}, Average: {num_avg}')"
   ]
  },
  {
   "cell_type": "markdown",
   "metadata": {},
   "source": [
    "### Positional Arguments\n",
    "When we define a function with multiple arguments like this:\n",
    "\n",
    "    def do_the_thing(pos1, pos2, pos3, ..., posN):\n",
    "\n",
    "We must pass the function N arguments with positoins corresponding with the function definition.\n",
    "\n",
    "### Optional Arguments \n",
    "\n",
    "### Keyword Arguments\n",
    "\n",
    "### Arbitrary Arguments\n",
    "We won't get into this, but look into *args and **kwargs.  You can make a funcation accept any arguments.  An example use for this is cerating your own version of the print function:\n",
    "\n",
    "    DEBUG = True\n",
    "\n",
    "    def debug_print(*args, **kwargs):\n",
    "        if DEBUG:\n",
    "            print(*args, **kwargs)"
   ]
  },
  {
   "cell_type": "markdown",
   "metadata": {},
   "source": [
    "## Imprting Data\n",
    "\n",
    "### Reading Files\n",
    "\n",
    "### Reading Files with Pandas\n",
    "\n",
    "### Query Database\n",
    "\n",
    "### Query Website with requests\n",
    "import requests\n",
    "import pandas as pd\n",
    "\n",
    "# URL for NDBC buoy data (e.g., Station 46042 - Monterey Bay)\n",
    "url = 'https://www.ndbc.noaa.gov/data/realtime2/46042.txt'\n",
    "\n",
    "# Send a GET request to fetch the data\n",
    "response = requests.get(url)\n",
    "\n",
    "# Check if the request was successful\n",
    "`\n",
    "if response.status_code == 200:\n",
    "    # Read the data into a pandas DataFrame\n",
    "    data = response.text.splitlines()\n",
    "    headers = data[0].split()\n",
    "    rows = [row.split() for row in data[2:]]\n",
    "    df = pd.DataFrame(rows, columns=headers)\n",
    "    \n",
    "    # Convert relevant columns to numeric types\n",
    "    df['YY'] = pd.to_numeric(df['YY'], errors='coerce')\n",
    "    df['MM'] = pd.to_numeric(df['MM'], errors='coerce')\n",
    "    df['DD'] = pd.to_numeric(df['DD'], errors='coerce')\n",
    "    df['hh'] = pd.to_numeric(df['hh'], errors='coerce')\n",
    "    df['mm'] = pd.to_numeric(df['mm'], errors='coerce')\n",
    "    df['WTMP'] = pd.to_numeric(df['WTMP'], errors='coerce')\n",
    "    \n",
    "    # Convert date and time columns to a single datetime column\n",
    "    df['Datetime'] = pd.to_datetime(df[['YY', 'MM', 'DD', 'hh', 'mm']])\n",
    "    \n",
    "    # Set the datetime column as the index\n",
    "    df.set_index('Datetime', inplace=True)\n",
    "    \n",
    "    # Keep only the relevant columns\n",
    "    df = df[['WTMP']]\n",
    "    \n",
    "    # Print the DataFrame\n",
    "    print(df)\n",
    "else:\n",
    "    print(f\"Failed to retrieve data: {response.status_code}\")\n",
    "`"
   ]
  },
  {
   "cell_type": "markdown",
   "metadata": {},
   "source": [
    "# Week 3 Turtle Challenge\n",
    "This week, we can use functions to isolate complex operations into little chunks that are used by other code to perform complex behavior with simple, readable, code.\n",
    "  \n",
    "#### *Exercise*:\n",
    "* "
   ]
  },
  {
   "cell_type": "markdown",
   "metadata": {},
   "source": []
  }
 ],
 "metadata": {
  "kernelspec": {
   "display_name": "venv",
   "language": "python",
   "name": "python3"
  },
  "language_info": {
   "codemirror_mode": {
    "name": "ipython",
    "version": 3
   },
   "file_extension": ".py",
   "mimetype": "text/x-python",
   "name": "python",
   "nbconvert_exporter": "python",
   "pygments_lexer": "ipython3",
   "version": "3.12.3"
  }
 },
 "nbformat": 4,
 "nbformat_minor": 2
}

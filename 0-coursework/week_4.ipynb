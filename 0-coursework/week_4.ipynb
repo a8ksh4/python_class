{
 "cells": [
  {
   "cell_type": "markdown",
   "metadata": {},
   "source": [
    "# Week 4\n",
    "\n",
    "Building on pandas skills with more advanced data manipulation and introduction to data visualization using pandas and matplotlib for generating graphs\n",
    "\n",
    "**Fun detours**\n",
    "* Use openai chatgpt to do some text AI\n",
    "* Web page hosted in python\n",
    "\n",
    "# How to approach learning pandas\n",
    "Start with simple problems.  Import a clean excel file. "
   ]
  },
  {
   "cell_type": "code",
   "execution_count": 1,
   "metadata": {},
   "outputs": [
    {
     "name": "stdout",
     "output_type": "stream",
     "text": [
      "bar\n"
     ]
    }
   ],
   "source": []
  },
  {
   "cell_type": "code",
   "execution_count": null,
   "metadata": {},
   "outputs": [],
   "source": []
  },
  {
   "cell_type": "code",
   "execution_count": null,
   "metadata": {},
   "outputs": [],
   "source": []
  },
  {
   "cell_type": "markdown",
   "metadata": {},
   "source": [
    "# Creating a Dataframe\n",
    "Just skim over this for the general idea on how it works, and come back to each method for importing data as you need it. \n",
    "\n",
    "## Empty Dataframe\n",
    "Why would we want an empty dataframe?  I think it's generally not needed... but maybe there's a good case for starting with an empty df... \n",
    "\n",
    "    df = pd.DataFrame()\n",
    "\n",
    "## From a CSV file\n",
    "\n",
    "    df = pd.read_csv('data.csv')\n",
    "\n",
    "## From an Excel file\n",
    "The sheet name is only needed if we have multiple sheets in the .xlsx.\n",
    "\n",
    "    df = pd.read_excel('data.xlsx', sheet_name='Sheet1')\n",
    "\n",
    "## From a list of lists or tuples\n",
    "We need to specify the column names in this case:\n",
    "\n",
    "    data = [[1, 2], [3, 4], [5, 6]]\n",
    "    df = pd.DataFrame(data, columns=['A', 'B'])\n",
    "\n",
    "## From a dictionary \n",
    "The dictionary keys are the **column** names, and the each list is a column of data. \n",
    "\n",
    "    data = {'A': [1, 2, 3], 'B': [4, 5, 6]}\n",
    "    df = pd.DataFrame(data)\n",
    "\n",
    "## From a database\n",
    "Note that a database connection, called \"conn\" here, is a pretty standard thing.  You can create a connection to many database types and pass the connectin and query to pd.read_sql_query and it will just work.  Sqlite3 is a file based database that doesn't require a server to host it. \n",
    "\n",
    "    import sqlite3\n",
    "\n",
    "    conn = sqlite3.connect('database.db')\n",
    "    df = pd.read_sql_query('SELECT * FROM table_name', conn)\n",
    "\n",
    "## From an html table\n",
    "Note that you can also generate html tables from dataframes... \n",
    "\n",
    "\n"
   ]
  },
  {
   "cell_type": "markdown",
   "metadata": {},
   "source": []
  }
 ],
 "metadata": {
  "kernelspec": {
   "display_name": "venv",
   "language": "python",
   "name": "python3"
  },
  "language_info": {
   "codemirror_mode": {
    "name": "ipython",
    "version": 3
   },
   "file_extension": ".py",
   "mimetype": "text/x-python",
   "name": "python",
   "nbconvert_exporter": "python",
   "pygments_lexer": "ipython3",
   "version": "3.11.6"
  }
 },
 "nbformat": 4,
 "nbformat_minor": 2
}
